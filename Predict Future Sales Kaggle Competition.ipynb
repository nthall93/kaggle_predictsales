{
 "cells": [
  {
   "cell_type": "markdown",
   "metadata": {},
   "source": [
    "# Predicting Future Sales\n",
    "https://www.kaggle.com/c/competitive-data-science-predict-future-sales/"
   ]
  },
  {
   "cell_type": "markdown",
   "metadata": {},
   "source": [
    "## Step 1: Loading and Joining Data  "
   ]
  },
  {
   "cell_type": "markdown",
   "metadata": {},
   "source": [
    "The dataset descriptions are provided by the competition here: https://www.kaggle.com/c/competitive-data-science-predict-future-sales/data  \n",
    "### Datasets\n",
    "**sales_train.csv**: the training set. Daily historical data from January 2013 to October 2015.  \n",
    "**test.csv**: the test set. You need to forecast the sales for these shops and products for November 2015.  \n",
    "**sample_submission.csv**: a sample submission file in the correct format.  \n",
    "**items.csv**: supplemental information about the items/products.  \n",
    "**item_categories.csv** : supplemental information about the items categories.  \n",
    "**shops.csv**- supplemental information about the shops.  \n",
    "\n",
    "\n",
    "### Data Dictionary\n",
    "**ID**: an Id that represents a (Shop, Item) tuple within the test set  \n",
    "**shop_id**: unique identifier of a shop  \n",
    "**item_id**: unique identifier of a product  \n",
    "**item_category_id**: unique identifier of item category  \n",
    "**item_cnt_day**: number of products sold. You are predicting a monthly amount of this measure  \n",
    "**item_price**: current price of an item  \n",
    "**date**: date in format dd/mm/yyyy  \n",
    "**date_block_num**: a consecutive month number, used for convenience. January 2013 is 0, February 2013 is 1,..., October 2015 is 33  \n",
    "**item_name**: name of item  \n",
    "**shop_name**: name of shop  \n",
    "**item_category_name**: name of item category  \n"
   ]
  },
  {
   "cell_type": "markdown",
   "metadata": {},
   "source": [
    "To create a model that can best predict sales, we need to join the other dimensions of the 'items' and 'shops' datasets, then identify which features to keep in our final model.  \n",
    "Alternatively, we could use a model that includes feature selection (e.g. Neural Network)"
   ]
  },
  {
   "cell_type": "code",
   "execution_count": 179,
   "metadata": {},
   "outputs": [],
   "source": [
    "# Load necessary packages\n",
    "import pandas as pd\n",
    "import numpy as np\n",
    "from fastai.collab import series2cat "
   ]
  },
  {
   "cell_type": "code",
   "execution_count": 180,
   "metadata": {},
   "outputs": [],
   "source": [
    "#Load Data\n",
    "sales_train = pd.read_csv('sales_train.csv')\n",
    "items = pd.read_csv('items.csv')\n",
    "shops = pd.read_csv('shops.csv')\n",
    "sales_test = pd.read_csv('test.csv',usecols = ['item_id','shop_id'])\n",
    "\n",
    "\n",
    "#ensure shop_id and item_id is loaded as a category not integer\n",
    "series2cat(sales_train, 'shop_id','item_id')\n",
    "series2cat(sales_test, 'shop_id','item_id')"
   ]
  },
  {
   "cell_type": "code",
   "execution_count": 181,
   "metadata": {},
   "outputs": [
    {
     "data": {
      "text/html": [
       "<div>\n",
       "<style scoped>\n",
       "    .dataframe tbody tr th:only-of-type {\n",
       "        vertical-align: middle;\n",
       "    }\n",
       "\n",
       "    .dataframe tbody tr th {\n",
       "        vertical-align: top;\n",
       "    }\n",
       "\n",
       "    .dataframe thead th {\n",
       "        text-align: right;\n",
       "    }\n",
       "</style>\n",
       "<table border=\"1\" class=\"dataframe\">\n",
       "  <thead>\n",
       "    <tr style=\"text-align: right;\">\n",
       "      <th></th>\n",
       "      <th>date</th>\n",
       "      <th>date_block_num</th>\n",
       "      <th>shop_id</th>\n",
       "      <th>item_id</th>\n",
       "      <th>item_price</th>\n",
       "      <th>item_cnt_day</th>\n",
       "    </tr>\n",
       "  </thead>\n",
       "  <tbody>\n",
       "    <tr>\n",
       "      <th>0</th>\n",
       "      <td>02.01.2013</td>\n",
       "      <td>0</td>\n",
       "      <td>59</td>\n",
       "      <td>22154</td>\n",
       "      <td>999.00</td>\n",
       "      <td>1.0</td>\n",
       "    </tr>\n",
       "    <tr>\n",
       "      <th>1</th>\n",
       "      <td>03.01.2013</td>\n",
       "      <td>0</td>\n",
       "      <td>25</td>\n",
       "      <td>2552</td>\n",
       "      <td>899.00</td>\n",
       "      <td>1.0</td>\n",
       "    </tr>\n",
       "    <tr>\n",
       "      <th>2</th>\n",
       "      <td>05.01.2013</td>\n",
       "      <td>0</td>\n",
       "      <td>25</td>\n",
       "      <td>2552</td>\n",
       "      <td>899.00</td>\n",
       "      <td>-1.0</td>\n",
       "    </tr>\n",
       "    <tr>\n",
       "      <th>3</th>\n",
       "      <td>06.01.2013</td>\n",
       "      <td>0</td>\n",
       "      <td>25</td>\n",
       "      <td>2554</td>\n",
       "      <td>1709.05</td>\n",
       "      <td>1.0</td>\n",
       "    </tr>\n",
       "    <tr>\n",
       "      <th>4</th>\n",
       "      <td>15.01.2013</td>\n",
       "      <td>0</td>\n",
       "      <td>25</td>\n",
       "      <td>2555</td>\n",
       "      <td>1099.00</td>\n",
       "      <td>1.0</td>\n",
       "    </tr>\n",
       "  </tbody>\n",
       "</table>\n",
       "</div>"
      ],
      "text/plain": [
       "         date  date_block_num shop_id item_id  item_price  item_cnt_day\n",
       "0  02.01.2013               0      59   22154      999.00           1.0\n",
       "1  03.01.2013               0      25    2552      899.00           1.0\n",
       "2  05.01.2013               0      25    2552      899.00          -1.0\n",
       "3  06.01.2013               0      25    2554     1709.05           1.0\n",
       "4  15.01.2013               0      25    2555     1099.00           1.0"
      ]
     },
     "metadata": {},
     "output_type": "display_data"
    },
    {
     "data": {
      "text/html": [
       "<div>\n",
       "<style scoped>\n",
       "    .dataframe tbody tr th:only-of-type {\n",
       "        vertical-align: middle;\n",
       "    }\n",
       "\n",
       "    .dataframe tbody tr th {\n",
       "        vertical-align: top;\n",
       "    }\n",
       "\n",
       "    .dataframe thead th {\n",
       "        text-align: right;\n",
       "    }\n",
       "</style>\n",
       "<table border=\"1\" class=\"dataframe\">\n",
       "  <thead>\n",
       "    <tr style=\"text-align: right;\">\n",
       "      <th></th>\n",
       "      <th>item_name</th>\n",
       "      <th>item_id</th>\n",
       "      <th>item_category_id</th>\n",
       "    </tr>\n",
       "  </thead>\n",
       "  <tbody>\n",
       "    <tr>\n",
       "      <th>0</th>\n",
       "      <td>! ВО ВЛАСТИ НАВАЖДЕНИЯ (ПЛАСТ.)         D</td>\n",
       "      <td>0</td>\n",
       "      <td>40</td>\n",
       "    </tr>\n",
       "    <tr>\n",
       "      <th>1</th>\n",
       "      <td>!ABBYY FineReader 12 Professional Edition Full...</td>\n",
       "      <td>1</td>\n",
       "      <td>76</td>\n",
       "    </tr>\n",
       "    <tr>\n",
       "      <th>2</th>\n",
       "      <td>***В ЛУЧАХ СЛАВЫ   (UNV)                    D</td>\n",
       "      <td>2</td>\n",
       "      <td>40</td>\n",
       "    </tr>\n",
       "    <tr>\n",
       "      <th>3</th>\n",
       "      <td>***ГОЛУБАЯ ВОЛНА  (Univ)                      D</td>\n",
       "      <td>3</td>\n",
       "      <td>40</td>\n",
       "    </tr>\n",
       "    <tr>\n",
       "      <th>4</th>\n",
       "      <td>***КОРОБКА (СТЕКЛО)                       D</td>\n",
       "      <td>4</td>\n",
       "      <td>40</td>\n",
       "    </tr>\n",
       "  </tbody>\n",
       "</table>\n",
       "</div>"
      ],
      "text/plain": [
       "                                           item_name  item_id  \\\n",
       "0          ! ВО ВЛАСТИ НАВАЖДЕНИЯ (ПЛАСТ.)         D        0   \n",
       "1  !ABBYY FineReader 12 Professional Edition Full...        1   \n",
       "2      ***В ЛУЧАХ СЛАВЫ   (UNV)                    D        2   \n",
       "3    ***ГОЛУБАЯ ВОЛНА  (Univ)                      D        3   \n",
       "4        ***КОРОБКА (СТЕКЛО)                       D        4   \n",
       "\n",
       "   item_category_id  \n",
       "0                40  \n",
       "1                76  \n",
       "2                40  \n",
       "3                40  \n",
       "4                40  "
      ]
     },
     "metadata": {},
     "output_type": "display_data"
    },
    {
     "data": {
      "text/html": [
       "<div>\n",
       "<style scoped>\n",
       "    .dataframe tbody tr th:only-of-type {\n",
       "        vertical-align: middle;\n",
       "    }\n",
       "\n",
       "    .dataframe tbody tr th {\n",
       "        vertical-align: top;\n",
       "    }\n",
       "\n",
       "    .dataframe thead th {\n",
       "        text-align: right;\n",
       "    }\n",
       "</style>\n",
       "<table border=\"1\" class=\"dataframe\">\n",
       "  <thead>\n",
       "    <tr style=\"text-align: right;\">\n",
       "      <th></th>\n",
       "      <th>shop_name</th>\n",
       "      <th>shop_id</th>\n",
       "    </tr>\n",
       "  </thead>\n",
       "  <tbody>\n",
       "    <tr>\n",
       "      <th>0</th>\n",
       "      <td>!Якутск Орджоникидзе, 56 фран</td>\n",
       "      <td>0</td>\n",
       "    </tr>\n",
       "    <tr>\n",
       "      <th>1</th>\n",
       "      <td>!Якутск ТЦ \"Центральный\" фран</td>\n",
       "      <td>1</td>\n",
       "    </tr>\n",
       "    <tr>\n",
       "      <th>2</th>\n",
       "      <td>Адыгея ТЦ \"Мега\"</td>\n",
       "      <td>2</td>\n",
       "    </tr>\n",
       "    <tr>\n",
       "      <th>3</th>\n",
       "      <td>Балашиха ТРК \"Октябрь-Киномир\"</td>\n",
       "      <td>3</td>\n",
       "    </tr>\n",
       "    <tr>\n",
       "      <th>4</th>\n",
       "      <td>Волжский ТЦ \"Волга Молл\"</td>\n",
       "      <td>4</td>\n",
       "    </tr>\n",
       "  </tbody>\n",
       "</table>\n",
       "</div>"
      ],
      "text/plain": [
       "                        shop_name  shop_id\n",
       "0   !Якутск Орджоникидзе, 56 фран        0\n",
       "1   !Якутск ТЦ \"Центральный\" фран        1\n",
       "2                Адыгея ТЦ \"Мега\"        2\n",
       "3  Балашиха ТРК \"Октябрь-Киномир\"        3\n",
       "4        Волжский ТЦ \"Волга Молл\"        4"
      ]
     },
     "metadata": {},
     "output_type": "display_data"
    },
    {
     "data": {
      "text/html": [
       "<div>\n",
       "<style scoped>\n",
       "    .dataframe tbody tr th:only-of-type {\n",
       "        vertical-align: middle;\n",
       "    }\n",
       "\n",
       "    .dataframe tbody tr th {\n",
       "        vertical-align: top;\n",
       "    }\n",
       "\n",
       "    .dataframe thead th {\n",
       "        text-align: right;\n",
       "    }\n",
       "</style>\n",
       "<table border=\"1\" class=\"dataframe\">\n",
       "  <thead>\n",
       "    <tr style=\"text-align: right;\">\n",
       "      <th></th>\n",
       "      <th>shop_id</th>\n",
       "      <th>item_id</th>\n",
       "    </tr>\n",
       "  </thead>\n",
       "  <tbody>\n",
       "    <tr>\n",
       "      <th>0</th>\n",
       "      <td>5</td>\n",
       "      <td>5037</td>\n",
       "    </tr>\n",
       "    <tr>\n",
       "      <th>1</th>\n",
       "      <td>5</td>\n",
       "      <td>5320</td>\n",
       "    </tr>\n",
       "    <tr>\n",
       "      <th>2</th>\n",
       "      <td>5</td>\n",
       "      <td>5233</td>\n",
       "    </tr>\n",
       "    <tr>\n",
       "      <th>3</th>\n",
       "      <td>5</td>\n",
       "      <td>5232</td>\n",
       "    </tr>\n",
       "    <tr>\n",
       "      <th>4</th>\n",
       "      <td>5</td>\n",
       "      <td>5268</td>\n",
       "    </tr>\n",
       "  </tbody>\n",
       "</table>\n",
       "</div>"
      ],
      "text/plain": [
       "  shop_id item_id\n",
       "0       5    5037\n",
       "1       5    5320\n",
       "2       5    5233\n",
       "3       5    5232\n",
       "4       5    5268"
      ]
     },
     "metadata": {},
     "output_type": "display_data"
    }
   ],
   "source": [
    "#Display datasets\n",
    "for df in [sales_train, items, shops, sales_test]:\n",
    "    display(df.head())"
   ]
  },
  {
   "cell_type": "code",
   "execution_count": 182,
   "metadata": {},
   "outputs": [
    {
     "data": {
      "text/html": [
       "<div>\n",
       "<style scoped>\n",
       "    .dataframe tbody tr th:only-of-type {\n",
       "        vertical-align: middle;\n",
       "    }\n",
       "\n",
       "    .dataframe tbody tr th {\n",
       "        vertical-align: top;\n",
       "    }\n",
       "\n",
       "    .dataframe thead th {\n",
       "        text-align: right;\n",
       "    }\n",
       "</style>\n",
       "<table border=\"1\" class=\"dataframe\">\n",
       "  <thead>\n",
       "    <tr style=\"text-align: right;\">\n",
       "      <th></th>\n",
       "      <th>date</th>\n",
       "      <th>date_block_num</th>\n",
       "      <th>shop_id</th>\n",
       "      <th>item_id</th>\n",
       "      <th>item_price</th>\n",
       "      <th>item_cnt_day</th>\n",
       "      <th>item_name</th>\n",
       "      <th>item_category_id</th>\n",
       "      <th>shop_name</th>\n",
       "    </tr>\n",
       "  </thead>\n",
       "  <tbody>\n",
       "    <tr>\n",
       "      <th>0</th>\n",
       "      <td>02.01.2013</td>\n",
       "      <td>0</td>\n",
       "      <td>59</td>\n",
       "      <td>22154</td>\n",
       "      <td>999.00</td>\n",
       "      <td>1.0</td>\n",
       "      <td>ЯВЛЕНИЕ 2012 (BD)</td>\n",
       "      <td>37</td>\n",
       "      <td>Ярославль ТЦ \"Альтаир\"</td>\n",
       "    </tr>\n",
       "    <tr>\n",
       "      <th>1</th>\n",
       "      <td>03.01.2013</td>\n",
       "      <td>0</td>\n",
       "      <td>25</td>\n",
       "      <td>2552</td>\n",
       "      <td>899.00</td>\n",
       "      <td>1.0</td>\n",
       "      <td>DEEP PURPLE  The House Of Blue Light  LP</td>\n",
       "      <td>58</td>\n",
       "      <td>Москва ТРК \"Атриум\"</td>\n",
       "    </tr>\n",
       "    <tr>\n",
       "      <th>2</th>\n",
       "      <td>05.01.2013</td>\n",
       "      <td>0</td>\n",
       "      <td>25</td>\n",
       "      <td>2552</td>\n",
       "      <td>899.00</td>\n",
       "      <td>-1.0</td>\n",
       "      <td>DEEP PURPLE  The House Of Blue Light  LP</td>\n",
       "      <td>58</td>\n",
       "      <td>Москва ТРК \"Атриум\"</td>\n",
       "    </tr>\n",
       "    <tr>\n",
       "      <th>3</th>\n",
       "      <td>06.01.2013</td>\n",
       "      <td>0</td>\n",
       "      <td>25</td>\n",
       "      <td>2554</td>\n",
       "      <td>1709.05</td>\n",
       "      <td>1.0</td>\n",
       "      <td>DEEP PURPLE  Who Do You Think We Are  LP</td>\n",
       "      <td>58</td>\n",
       "      <td>Москва ТРК \"Атриум\"</td>\n",
       "    </tr>\n",
       "    <tr>\n",
       "      <th>4</th>\n",
       "      <td>15.01.2013</td>\n",
       "      <td>0</td>\n",
       "      <td>25</td>\n",
       "      <td>2555</td>\n",
       "      <td>1099.00</td>\n",
       "      <td>1.0</td>\n",
       "      <td>DEEP PURPLE 30 Very Best Of 2CD (Фирм.)</td>\n",
       "      <td>56</td>\n",
       "      <td>Москва ТРК \"Атриум\"</td>\n",
       "    </tr>\n",
       "  </tbody>\n",
       "</table>\n",
       "</div>"
      ],
      "text/plain": [
       "         date  date_block_num  shop_id  item_id  item_price  item_cnt_day  \\\n",
       "0  02.01.2013               0       59    22154      999.00           1.0   \n",
       "1  03.01.2013               0       25     2552      899.00           1.0   \n",
       "2  05.01.2013               0       25     2552      899.00          -1.0   \n",
       "3  06.01.2013               0       25     2554     1709.05           1.0   \n",
       "4  15.01.2013               0       25     2555     1099.00           1.0   \n",
       "\n",
       "                                  item_name  item_category_id  \\\n",
       "0                         ЯВЛЕНИЕ 2012 (BD)                37   \n",
       "1  DEEP PURPLE  The House Of Blue Light  LP                58   \n",
       "2  DEEP PURPLE  The House Of Blue Light  LP                58   \n",
       "3  DEEP PURPLE  Who Do You Think We Are  LP                58   \n",
       "4   DEEP PURPLE 30 Very Best Of 2CD (Фирм.)                56   \n",
       "\n",
       "                shop_name  \n",
       "0  Ярославль ТЦ \"Альтаир\"  \n",
       "1     Москва ТРК \"Атриум\"  \n",
       "2     Москва ТРК \"Атриум\"  \n",
       "3     Москва ТРК \"Атриум\"  \n",
       "4     Москва ТРК \"Атриум\"  "
      ]
     },
     "metadata": {},
     "output_type": "display_data"
    }
   ],
   "source": [
    "#merge data\n",
    "sales_train = pd.merge(sales_train, items, on = 'item_id', how = 'left')\n",
    "sales_train = pd.merge(sales_train, shops, on = 'shop_id', how = 'left')\n",
    "display(sales_train.head())"
   ]
  },
  {
   "cell_type": "markdown",
   "metadata": {},
   "source": [
    "Another important part of this step is to preview what the test output appears as well as the sample submission to make sure we create the most relevant model."
   ]
  },
  {
   "cell_type": "code",
   "execution_count": 183,
   "metadata": {},
   "outputs": [
    {
     "data": {
      "text/html": [
       "<div>\n",
       "<style scoped>\n",
       "    .dataframe tbody tr th:only-of-type {\n",
       "        vertical-align: middle;\n",
       "    }\n",
       "\n",
       "    .dataframe tbody tr th {\n",
       "        vertical-align: top;\n",
       "    }\n",
       "\n",
       "    .dataframe thead th {\n",
       "        text-align: right;\n",
       "    }\n",
       "</style>\n",
       "<table border=\"1\" class=\"dataframe\">\n",
       "  <thead>\n",
       "    <tr style=\"text-align: right;\">\n",
       "      <th></th>\n",
       "      <th>ID</th>\n",
       "      <th>item_cnt_month</th>\n",
       "    </tr>\n",
       "  </thead>\n",
       "  <tbody>\n",
       "    <tr>\n",
       "      <th>0</th>\n",
       "      <td>0</td>\n",
       "      <td>0.5</td>\n",
       "    </tr>\n",
       "    <tr>\n",
       "      <th>1</th>\n",
       "      <td>1</td>\n",
       "      <td>0.5</td>\n",
       "    </tr>\n",
       "    <tr>\n",
       "      <th>2</th>\n",
       "      <td>2</td>\n",
       "      <td>0.5</td>\n",
       "    </tr>\n",
       "    <tr>\n",
       "      <th>3</th>\n",
       "      <td>3</td>\n",
       "      <td>0.5</td>\n",
       "    </tr>\n",
       "    <tr>\n",
       "      <th>4</th>\n",
       "      <td>4</td>\n",
       "      <td>0.5</td>\n",
       "    </tr>\n",
       "  </tbody>\n",
       "</table>\n",
       "</div>"
      ],
      "text/plain": [
       "   ID  item_cnt_month\n",
       "0   0             0.5\n",
       "1   1             0.5\n",
       "2   2             0.5\n",
       "3   3             0.5\n",
       "4   4             0.5"
      ]
     },
     "metadata": {},
     "output_type": "display_data"
    }
   ],
   "source": [
    "sample_submission = pd.read_csv('sample_submission.csv') \n",
    "display(sample_submission.head())"
   ]
  },
  {
   "cell_type": "markdown",
   "metadata": {},
   "source": [
    "Display how many shop id and item id are not in our dataset."
   ]
  },
  {
   "cell_type": "code",
   "execution_count": 184,
   "metadata": {},
   "outputs": [
    {
     "data": {
      "text/plain": [
       "0.0"
      ]
     },
     "metadata": {},
     "output_type": "display_data"
    },
    {
     "data": {
      "text/plain": [
       "0.0711764705882353"
      ]
     },
     "metadata": {},
     "output_type": "display_data"
    },
    {
     "data": {
      "text/plain": [
       "0"
      ]
     },
     "metadata": {},
     "output_type": "display_data"
    }
   ],
   "source": [
    "display(np.isin(sales_test['shop_id'].unique(),sales_train['shop_id'].unique(),invert = True).sum()/len(sales_test['shop_id'].unique())) #Counts how many shops are not in our training set\n",
    "display(np.isin(sales_test['item_id'].unique(),sales_train['item_id'].unique(),invert = True).sum()/len(sales_test['item_id'].unique())) #Counts how many items are not in our training set\n",
    "display((~sales_test['item_id'].isin(items['item_id'])).sum()) #How many items are not in the items dataset"
   ]
  },
  {
   "cell_type": "markdown",
   "metadata": {},
   "source": [
    "Good news! All shops are within our training set. No new shops need to be predicted. While 7.1% of items are not in our training dataset, they are in the items dataset. Meaning we do not have to worry about missing values."
   ]
  },
  {
   "cell_type": "markdown",
   "metadata": {},
   "source": [
    "Split test set into two categories:\n",
    "1. `exist_combinations`: where the combination of shop_id and item_id has appeared at least once in the training set.\n",
    "2. `unique_combinations`: where the combination of shop_id and item_id has never appeared."
   ]
  },
  {
   "cell_type": "code",
   "execution_count": 185,
   "metadata": {},
   "outputs": [],
   "source": [
    "train_combinations['test'] = False\n",
    "\n",
    "all_combinations = pd.concat([train_combinations,sales_test],ignore_index = True)\n",
    "\n",
    "all_combinations['test'] = all_combinations['test'].fillna(True)\n",
    "exist_mask = all_combinations.duplicated(subset = ['shop_id','item_id'], keep = False)\n",
    "\n",
    "exist_combinations = all_combinations[exist_mask & all_combinations['test']]\n",
    "unique_combinations = all_combinations[~exist_mask & all_combinations['test']]"
   ]
  },
  {
   "cell_type": "markdown",
   "metadata": {},
   "source": [
    "In the test set, each is a unique combination of 'shop_id' and 'item_id' however this combination may not be useful (e.g. a bakery is unlikely to sell paracetamol), so we should aim to create a model that can handle this. "
   ]
  },
  {
   "cell_type": "markdown",
   "metadata": {},
   "source": [
    "## Model 1: Collab filtering approach\n",
    "Most basic approach would be to ignore all information aside from shop id, item id and to create a collaborative filtering.  \n",
    "**Pros**: Non parametric model, simple to set up  \n",
    "**Cons**: Doesn't take into account time data. Cold start problem (not good at predicting new items / shops. Not great at predicting continuous values."
   ]
  },
  {
   "cell_type": "markdown",
   "metadata": {},
   "source": [
    "### Data Transformation"
   ]
  },
  {
   "cell_type": "code",
   "execution_count": 314,
   "metadata": {},
   "outputs": [],
   "source": [
    "from fastai.collab import * \n",
    "\n",
    "sum_items_by_shop_by_months = sales_train.groupby(['date_block_num','shop_id','item_id'])['item_cnt_day'].sum() #sum by items, shops by date_blocks\n",
    "average_monthly_sales = sum_items_by_shop_by_months.reset_index().groupby(['shop_id','item_id'])['item_cnt_day'].mean()\n",
    "average_monthly_sales = average_monthly_sales.reset_index()\n",
    "\n",
    "#create index and training set where the last month (33)\n",
    "average_monthly_sales_train = sum_items_by_shop_by_months.loc[0:32].reset_index().groupby(['shop_id','item_id'])['item_cnt_day'].mean().reset_index()\n",
    "average_monthly_sales_verify = sum_items_by_shop_by_months.loc[33].reset_index()"
   ]
  },
  {
   "cell_type": "code",
   "execution_count": 315,
   "metadata": {},
   "outputs": [
    {
     "name": "stdout",
     "output_type": "stream",
     "text": [
      "True     0.77419\n",
      "False    0.22581\n",
      "Name: existing combination, dtype: float64\n",
      "False    0.991818\n",
      "True     0.008182\n",
      "Name: new shop_id, dtype: float64\n",
      "False    0.904507\n",
      "True     0.095493\n",
      "Name: new item_id, dtype: float64\n",
      "True     0.520093\n",
      "False    0.479907\n",
      "Name: existing combination, dtype: float64\n",
      "False    1.0\n",
      "Name: new shop_id, dtype: float64\n",
      "False    0.928824\n",
      "True     0.071176\n",
      "Name: new item_id, dtype: float64\n"
     ]
    }
   ],
   "source": [
    "def check_test_set(train_df, test_df, ind_vars = ['shop_id','item_id'], verbose = True):\n",
    "    for df in train_df, test_df:\n",
    "        for var in ind_vars:\n",
    "            series2cat(df,var)\n",
    "            \n",
    "    exist_combn = train_df[~train_df.duplicated(subset = ind_vars)][ind_vars]\n",
    "    test_combn = test_df[~test_df.duplicated(subset = ind_vars)][ind_vars]\n",
    "    if test_combn.shape[0] != test_df.shape[0]:\n",
    "        print('Test data has duplicate independent variables')\n",
    "    \n",
    "    concat_func = lambda x: ' '.join([str(i) for i in x])\n",
    "    exist_combn = exist_combn.apply(concat_func,axis = 1)\n",
    "    test_combn =  test_combn.apply(concat_func,axis = 1)\n",
    "    test_df['existing combination'] = test_combn.isin(exist_combn)\n",
    "    if verbose:\n",
    "        print(test_df['existing combination'].value_counts(normalize= True))\n",
    "    for var in ind_vars:\n",
    "        new_col = 'new {}'.format(var)\n",
    "        test_df[new_col] = ~test_df[var].isin(train_df[var])\n",
    "        if verbose:\n",
    "            print(test_df[new_col].value_counts(normalize = True))\n",
    "        \n",
    "    return test_df\n",
    "\n",
    "average_monthly_sales_verify = check_test_set(train_df = average_monthly_sales_train,\n",
    "                                              test_df = average_monthly_sales_verify)\n",
    "    \n",
    "sales_test = check_test_set(train_df = average_monthly_sales,\n",
    "              test_df = sales_test)"
   ]
  },
  {
   "cell_type": "markdown",
   "metadata": {},
   "source": [
    "There's triple the amount of unknown combinations in the test site, this is likely that there have been some combinations that have been added that should be 0."
   ]
  },
  {
   "cell_type": "code",
   "execution_count": 316,
   "metadata": {},
   "outputs": [],
   "source": [
    "def cartesian_df(series1,series2):\n",
    "    df1 = pd.DataFrame({series1.name:series1.unique(),\n",
    "             'cartesian':1})\n",
    "    df2 = pd.DataFrame({series2.name:series2.unique(),\n",
    "             'cartesian':1})\n",
    "    \n",
    "    df = pd.merge(df1,df2, on = 'cartesian')\n",
    "    df = df.drop('cartesian',axis = 1)\n",
    "    return df\n",
    "\n",
    "#create cartesian df\n",
    "cart_df = cartesian_df(average_monthly_sales_train['shop_id'],average_monthly_sales_train['item_id'])\n",
    "\n",
    "#fill cartesian df when combiniation is known, else fill with 0. Add random column to help order\n",
    "cart_df = pd.merge(cart_df,average_monthly_sales[['shop_id','item_id','item_cnt_day']], on = ['shop_id','item_id'], how = 'left')\n",
    "cart_df['item_cnt_day'] = cart_df['item_cnt_day'].fillna(0)\n",
    "cart_df['rand'] = np.random.rand(cart_df.shape[0])\n",
    "null_combinations = cart_df[cart_df['item_cnt_day'] == 0].sort_values('rand')\n",
    "\n",
    "#randomly select null combinations\n",
    "extra_combinations_needed = (~average_monthly_sales_verify['existing combination']).sum() * 2\n",
    "null_combinations = null_combinations.iloc[0:extra_combinations_needed,0:3]\n",
    "\n",
    "#add extra null combinations\n",
    "average_monthly_sales_verify = pd.concat([average_monthly_sales_verify,null_combinations], ignore_index = True)\n",
    "average_monthly_sales_verify = average_monthly_sales_verify.fillna(False)\n",
    "\n",
    "#remove new_shop_id No values in test set.\n",
    "average_monthly_sales_verify = average_monthly_sales_verify[~average_monthly_sales_verify['new shop_id']]"
   ]
  },
  {
   "cell_type": "code",
   "execution_count": 340,
   "metadata": {},
   "outputs": [
    {
     "data": {
      "text/plain": [
       "True     0.536352\n",
       "False    0.463648\n",
       "Name: existing combination, dtype: float64"
      ]
     },
     "metadata": {},
     "output_type": "display_data"
    },
    {
     "data": {
      "text/plain": [
       "True     0.520093\n",
       "False    0.479907\n",
       "Name: existing combination, dtype: float64"
      ]
     },
     "metadata": {},
     "output_type": "display_data"
    },
    {
     "data": {
      "text/plain": [
       "False    1.0\n",
       "Name: new shop_id, dtype: float64"
      ]
     },
     "metadata": {},
     "output_type": "display_data"
    },
    {
     "data": {
      "text/plain": [
       "False    1.0\n",
       "Name: new shop_id, dtype: float64"
      ]
     },
     "metadata": {},
     "output_type": "display_data"
    },
    {
     "data": {
      "text/plain": [
       "False    0.934283\n",
       "True     0.065717\n",
       "Name: new item_id, dtype: float64"
      ]
     },
     "metadata": {},
     "output_type": "display_data"
    },
    {
     "data": {
      "text/plain": [
       "False    0.928824\n",
       "True     0.071176\n",
       "Name: new item_id, dtype: float64"
      ]
     },
     "metadata": {},
     "output_type": "display_data"
    }
   ],
   "source": [
    "var_cols = ['existing combination', 'new shop_id','new item_id']\n",
    "for col in var_cols:\n",
    "    display(average_monthly_sales_verify[col].value_counts(normalize = True))\n",
    "    display(sales_test[col].value_counts(normalize = True))\n",
    "    \n",
    "var_cols.remove('new shop_id')"
   ]
  },
  {
   "cell_type": "markdown",
   "metadata": {},
   "source": [
    "Test and validation set look much more similar now."
   ]
  },
  {
   "cell_type": "markdown",
   "metadata": {},
   "source": [
    "## Train"
   ]
  },
  {
   "cell_type": "code",
   "execution_count": 469,
   "metadata": {},
   "outputs": [],
   "source": [
    "binary_monthly_sales_verify = average_monthly_sales_verify.copy()\n",
    "binary_monthly_sales_verify['item_cnt_day'] = np.minimum(binary_monthly_sales_verify['item_cnt_day'],1)\n",
    "\n",
    "binary_monthly_sales_train = average_monthly_sales_train.copy()\n",
    "binary_monthly_sales_train['item_cnt_day'] = np.minimum(binary_monthly_sales_train['item_cnt_day'],1)"
   ]
  },
  {
   "cell_type": "code",
   "execution_count": 471,
   "metadata": {},
   "outputs": [],
   "source": [
    "def create_databunch(train_df:pd.DataFrame, test_df:pd.DataFrame, seed:int):\n",
    "    data_test = TabularList.from_df(test_df)\n",
    "    data = CollabDataBunch.from_df(train_df, seed = seed)\n",
    "    data.add_test(data_test)\n",
    "    \n",
    "    return data\n",
    "\n",
    "data = create_databunch(average_monthly_sales_train,average_monthly_sales_verify, seed = 42)\n",
    "\n",
    "if binary:\n",
    "    data = create_databunch(binary_monthly_sales_train, binary_monthly_sales_verify, seed = 42)"
   ]
  },
  {
   "cell_type": "markdown",
   "metadata": {},
   "source": [
    "Box plot shows dataset has extreme outliers. Therefore we will use quantiles to base our range rather than min and max values"
   ]
  },
  {
   "cell_type": "code",
   "execution_count": 512,
   "metadata": {},
   "outputs": [
    {
     "data": {
      "image/png": "[encoded data removed]",
      "text/plain": [
       "<Figure size 432x288 with 1 Axes>"
      ]
     },
     "metadata": {
      "needs_background": "light"
     },
     "output_type": "display_data"
    }
   ],
   "source": [
    "plt.boxplot(average_monthly_sales_train['item_cnt_day'])\n",
    "sales_range = (0.,float(np.quantile(average_monthly_sales_train['item_cnt_day'],q = .99)))\n",
    "if binary:\n",
    "    sales_range = [0.,1.]"
   ]
  },
  {
   "cell_type": "code",
   "execution_count": 515,
   "metadata": {},
   "outputs": [
    {
     "data": {
      "text/html": [
       "\n",
       "    <div>\n",
       "        <style>\n",
       "            /* Turns off some styling */\n",
       "            progress {\n",
       "                /* gets rid of default border in Firefox and Opera. */\n",
       "                border: none;\n",
       "                /* Needs to be in here for Safari polyfill so background images work as expected. */\n",
       "                background-size: auto;\n",
       "            }\n",
       "            .progress-bar-interrupted, .progress-bar-interrupted::-webkit-progress-bar {\n",
       "                background: #F44336;\n",
       "            }\n",
       "        </style>\n",
       "      <progress value='0' class='' max='1', style='width:300px; height:20px; vertical-align: middle;'></progress>\n",
       "      0.00% [0/1 00:00<00:00]\n",
       "    </div>\n",
       "    \n",
       "<table border=\"1\" class=\"dataframe\">\n",
       "  <thead>\n",
       "    <tr style=\"text-align: left;\">\n",
       "      <th>epoch</th>\n",
       "      <th>train_loss</th>\n",
       "      <th>valid_loss</th>\n",
       "      <th>time</th>\n",
       "    </tr>\n",
       "  </thead>\n",
       "  <tbody>\n",
       "  </tbody>\n",
       "</table><p>\n",
       "\n",
       "    <div>\n",
       "        <style>\n",
       "            /* Turns off some styling */\n",
       "            progress {\n",
       "                /* gets rid of default border in Firefox and Opera. */\n",
       "                border: none;\n",
       "                /* Needs to be in here for Safari polyfill so background images work as expected. */\n",
       "                background-size: auto;\n",
       "            }\n",
       "            .progress-bar-interrupted, .progress-bar-interrupted::-webkit-progress-bar {\n",
       "                background: #F44336;\n",
       "            }\n",
       "        </style>\n",
       "      <progress value='99' class='' max='5212', style='width:300px; height:20px; vertical-align: middle;'></progress>\n",
       "      1.90% [99/5212 00:27<24:00 0.1688]\n",
       "    </div>\n",
       "    "
      ],
      "text/plain": [
       "<IPython.core.display.HTML object>"
      ]
     },
     "metadata": {},
     "output_type": "display_data"
    },
    {
     "name": "stdout",
     "output_type": "stream",
     "text": [
      "LR Finder is complete, type {learner_name}.recorder.plot() to see the graph.\n"
     ]
    },
    {
     "data": {
      "image/png": "[encoded data removed]",
      "text/plain": [
       "<Figure size 432x288 with 1 Axes>"
      ]
     },
     "metadata": {
      "needs_background": "light"
     },
     "output_type": "display_data"
    }
   ],
   "source": [
    "learn = collab_learner(data, n_factors=100, y_range=sales_range)\n",
    "learn.lr_find()\n",
    "learn.recorder.plot()"
   ]
  },
  {
   "cell_type": "code",
   "execution_count": 498,
   "metadata": {},
   "outputs": [],
   "source": [
    "import torch\n",
    "torch.cuda.set_device(0)"
   ]
  },
  {
   "cell_type": "markdown",
   "metadata": {},
   "source": [
    "Based on this, we select a max learning rate at a point where the graph is steepest."
   ]
  },
  {
   "cell_type": "code",
   "execution_count": 520,
   "metadata": {},
   "outputs": [
    {
     "data": {
      "text/html": [
       "<table border=\"1\" class=\"dataframe\">\n",
       "  <thead>\n",
       "    <tr style=\"text-align: left;\">\n",
       "      <th>epoch</th>\n",
       "      <th>train_loss</th>\n",
       "      <th>valid_loss</th>\n",
       "      <th>time</th>\n",
       "    </tr>\n",
       "  </thead>\n",
       "  <tbody>\n",
       "    <tr>\n",
       "      <td>0</td>\n",
       "      <td>0.028430</td>\n",
       "      <td>0.023301</td>\n",
       "      <td>01:48</td>\n",
       "    </tr>\n",
       "    <tr>\n",
       "      <td>1</td>\n",
       "      <td>0.041043</td>\n",
       "      <td>0.035918</td>\n",
       "      <td>01:47</td>\n",
       "    </tr>\n",
       "    <tr>\n",
       "      <td>2</td>\n",
       "      <td>0.032368</td>\n",
       "      <td>0.018103</td>\n",
       "      <td>01:47</td>\n",
       "    </tr>\n",
       "    <tr>\n",
       "      <td>3</td>\n",
       "      <td>0.007306</td>\n",
       "      <td>0.004969</td>\n",
       "      <td>01:47</td>\n",
       "    </tr>\n",
       "    <tr>\n",
       "      <td>4</td>\n",
       "      <td>0.001060</td>\n",
       "      <td>0.001763</td>\n",
       "      <td>01:50</td>\n",
       "    </tr>\n",
       "  </tbody>\n",
       "</table>"
      ],
      "text/plain": [
       "<IPython.core.display.HTML object>"
      ]
     },
     "metadata": {},
     "output_type": "display_data"
    }
   ],
   "source": [
    "learn.fit_one_cycle(5, max_lr = .5, wd=0.1)"
   ]
  },
  {
   "cell_type": "markdown",
   "metadata": {},
   "source": [
    "### Predict Values"
   ]
  },
  {
   "cell_type": "code",
   "execution_count": 521,
   "metadata": {},
   "outputs": [
    {
     "data": {
      "text/html": [],
      "text/plain": [
       "<IPython.core.display.HTML object>"
      ]
     },
     "metadata": {},
     "output_type": "display_data"
    }
   ],
   "source": [
    "def verify_data(verify_df:pd.DataFrame, model):  \n",
    "    preds = model.get_preds(ds_type=DatasetType.Test)\n",
    "    verify_df['pred'] = preds[0]\n",
    "    verify_df['residual'] = verify_df['pred'] - verify_df['item_cnt_day']\n",
    "    verify_df['residual_abs'] = abs(verify_df['residual'])\n",
    "    return verify_df\n",
    "\n",
    "binary_monthly_sales_verify = verify_data(binary_monthly_sales_verify, learn)"
   ]
  },
  {
   "cell_type": "code",
   "execution_count": 478,
   "metadata": {},
   "outputs": [
    {
     "name": "stdout",
     "output_type": "stream",
     "text": [
      "existing combination  new item_id\n",
      "False                 False          1.860966\n",
      "                      True           3.037559\n",
      "True                  False          1.562167\n",
      "Name: residual_abs, dtype: float64\n"
     ]
    }
   ],
   "source": [
    "print(average_monthly_sales_verify.groupby(var_cols)['residual_abs'].mean())"
   ]
  },
  {
   "cell_type": "code",
   "execution_count": 611,
   "metadata": {},
   "outputs": [
    {
     "data": {
      "text/html": [
       "<div>\n",
       "<style scoped>\n",
       "    .dataframe tbody tr th:only-of-type {\n",
       "        vertical-align: middle;\n",
       "    }\n",
       "\n",
       "    .dataframe tbody tr th {\n",
       "        vertical-align: top;\n",
       "    }\n",
       "\n",
       "    .dataframe thead th {\n",
       "        text-align: right;\n",
       "    }\n",
       "</style>\n",
       "<table border=\"1\" class=\"dataframe\">\n",
       "  <thead>\n",
       "    <tr style=\"text-align: right;\">\n",
       "      <th></th>\n",
       "      <th>pred</th>\n",
       "      <th>pred</th>\n",
       "    </tr>\n",
       "  </thead>\n",
       "  <tbody>\n",
       "    <tr>\n",
       "      <th>0</th>\n",
       "      <td>0.998661</td>\n",
       "      <td>0.001339</td>\n",
       "    </tr>\n",
       "    <tr>\n",
       "      <th>1</th>\n",
       "      <td>0.998274</td>\n",
       "      <td>0.001726</td>\n",
       "    </tr>\n",
       "    <tr>\n",
       "      <th>2</th>\n",
       "      <td>0.998309</td>\n",
       "      <td>0.001691</td>\n",
       "    </tr>\n",
       "    <tr>\n",
       "      <th>3</th>\n",
       "      <td>0.960171</td>\n",
       "      <td>0.039829</td>\n",
       "    </tr>\n",
       "    <tr>\n",
       "      <th>4</th>\n",
       "      <td>0.998939</td>\n",
       "      <td>0.001061</td>\n",
       "    </tr>\n",
       "    <tr>\n",
       "      <th>...</th>\n",
       "      <td>...</td>\n",
       "      <td>...</td>\n",
       "    </tr>\n",
       "    <tr>\n",
       "      <th>45766</th>\n",
       "      <td>0.924569</td>\n",
       "      <td>0.075431</td>\n",
       "    </tr>\n",
       "    <tr>\n",
       "      <th>45767</th>\n",
       "      <td>0.984966</td>\n",
       "      <td>0.015034</td>\n",
       "    </tr>\n",
       "    <tr>\n",
       "      <th>45768</th>\n",
       "      <td>0.997395</td>\n",
       "      <td>0.002605</td>\n",
       "    </tr>\n",
       "    <tr>\n",
       "      <th>45769</th>\n",
       "      <td>0.996535</td>\n",
       "      <td>0.003465</td>\n",
       "    </tr>\n",
       "    <tr>\n",
       "      <th>45770</th>\n",
       "      <td>0.994919</td>\n",
       "      <td>0.005081</td>\n",
       "    </tr>\n",
       "  </tbody>\n",
       "</table>\n",
       "<p>45513 rows × 2 columns</p>\n",
       "</div>"
      ],
      "text/plain": [
       "           pred      pred\n",
       "0      0.998661  0.001339\n",
       "1      0.998274  0.001726\n",
       "2      0.998309  0.001691\n",
       "3      0.960171  0.039829\n",
       "4      0.998939  0.001061\n",
       "...         ...       ...\n",
       "45766  0.924569  0.075431\n",
       "45767  0.984966  0.015034\n",
       "45768  0.997395  0.002605\n",
       "45769  0.996535  0.003465\n",
       "45770  0.994919  0.005081\n",
       "\n",
       "[45513 rows x 2 columns]"
      ]
     },
     "execution_count": 611,
     "metadata": {},
     "output_type": "execute_result"
    }
   ],
   "source": [
    "y_pred"
   ]
  },
  {
   "cell_type": "code",
   "execution_count": 621,
   "metadata": {},
   "outputs": [],
   "source": [
    "y_test = np.maximum(0,binary_monthly_sales_verify['item_cnt_day']).astype('int')\n",
    "\n",
    "y_pred = pd.concat([binary_monthly_sales_verify['pred'],1-binary_monthly_sales_verify['pred']], axis = 1)\n",
    "\n",
    "y_pred.columns = [1,0]"
   ]
  },
  {
   "cell_type": "code",
   "execution_count": 622,
   "metadata": {},
   "outputs": [
    {
     "data": {
      "image/png": "[encoded data removed]",
      "text/plain": [
       "<Figure size 432x288 with 1 Axes>"
      ]
     },
     "metadata": {
      "needs_background": "light"
     },
     "output_type": "display_data"
    }
   ],
   "source": [
    "import scikitplot as skplt\n",
    "\n",
    "skplt.metrics.plot_roc(y_test.values,y_pred.values)\n",
    "plt.show()"
   ]
  },
  {
   "cell_type": "code",
   "execution_count": 616,
   "metadata": {},
   "outputs": [
    {
     "data": {
      "text/html": [
       "<div>\n",
       "<style scoped>\n",
       "    .dataframe tbody tr th:only-of-type {\n",
       "        vertical-align: middle;\n",
       "    }\n",
       "\n",
       "    .dataframe tbody tr th {\n",
       "        vertical-align: top;\n",
       "    }\n",
       "\n",
       "    .dataframe thead th {\n",
       "        text-align: right;\n",
       "    }\n",
       "</style>\n",
       "<table border=\"1\" class=\"dataframe\">\n",
       "  <thead>\n",
       "    <tr style=\"text-align: right;\">\n",
       "      <th></th>\n",
       "      <th>1</th>\n",
       "      <th>0</th>\n",
       "    </tr>\n",
       "  </thead>\n",
       "  <tbody>\n",
       "    <tr>\n",
       "      <th>0</th>\n",
       "      <td>1</td>\n",
       "      <td>0</td>\n",
       "    </tr>\n",
       "    <tr>\n",
       "      <th>1</th>\n",
       "      <td>1</td>\n",
       "      <td>0</td>\n",
       "    </tr>\n",
       "    <tr>\n",
       "      <th>2</th>\n",
       "      <td>1</td>\n",
       "      <td>0</td>\n",
       "    </tr>\n",
       "    <tr>\n",
       "      <th>3</th>\n",
       "      <td>1</td>\n",
       "      <td>0</td>\n",
       "    </tr>\n",
       "    <tr>\n",
       "      <th>4</th>\n",
       "      <td>1</td>\n",
       "      <td>0</td>\n",
       "    </tr>\n",
       "    <tr>\n",
       "      <th>...</th>\n",
       "      <td>...</td>\n",
       "      <td>...</td>\n",
       "    </tr>\n",
       "    <tr>\n",
       "      <th>45766</th>\n",
       "      <td>0</td>\n",
       "      <td>1</td>\n",
       "    </tr>\n",
       "    <tr>\n",
       "      <th>45767</th>\n",
       "      <td>0</td>\n",
       "      <td>1</td>\n",
       "    </tr>\n",
       "    <tr>\n",
       "      <th>45768</th>\n",
       "      <td>0</td>\n",
       "      <td>1</td>\n",
       "    </tr>\n",
       "    <tr>\n",
       "      <th>45769</th>\n",
       "      <td>0</td>\n",
       "      <td>1</td>\n",
       "    </tr>\n",
       "    <tr>\n",
       "      <th>45770</th>\n",
       "      <td>0</td>\n",
       "      <td>1</td>\n",
       "    </tr>\n",
       "  </tbody>\n",
       "</table>\n",
       "<p>45513 rows × 2 columns</p>\n",
       "</div>"
      ],
      "text/plain": [
       "       1  0\n",
       "0      1  0\n",
       "1      1  0\n",
       "2      1  0\n",
       "3      1  0\n",
       "4      1  0\n",
       "...   .. ..\n",
       "45766  0  1\n",
       "45767  0  1\n",
       "45768  0  1\n",
       "45769  0  1\n",
       "45770  0  1\n",
       "\n",
       "[45513 rows x 2 columns]"
      ]
     },
     "execution_count": 616,
     "metadata": {},
     "output_type": "execute_result"
    }
   ],
   "source": [
    "y_test"
   ]
  },
  {
   "cell_type": "code",
   "execution_count": 588,
   "metadata": {},
   "outputs": [
    {
     "data": {
      "text/html": [
       "<div>\n",
       "<style scoped>\n",
       "    .dataframe tbody tr th:only-of-type {\n",
       "        vertical-align: middle;\n",
       "    }\n",
       "\n",
       "    .dataframe tbody tr th {\n",
       "        vertical-align: top;\n",
       "    }\n",
       "\n",
       "    .dataframe thead th {\n",
       "        text-align: right;\n",
       "    }\n",
       "</style>\n",
       "<table border=\"1\" class=\"dataframe\">\n",
       "  <thead>\n",
       "    <tr style=\"text-align: right;\">\n",
       "      <th></th>\n",
       "      <th>item_cnt_day</th>\n",
       "    </tr>\n",
       "  </thead>\n",
       "  <tbody>\n",
       "    <tr>\n",
       "      <th>0</th>\n",
       "      <td>1.0</td>\n",
       "    </tr>\n",
       "    <tr>\n",
       "      <th>1</th>\n",
       "      <td>1.0</td>\n",
       "    </tr>\n",
       "    <tr>\n",
       "      <th>2</th>\n",
       "      <td>1.0</td>\n",
       "    </tr>\n",
       "    <tr>\n",
       "      <th>3</th>\n",
       "      <td>1.0</td>\n",
       "    </tr>\n",
       "    <tr>\n",
       "      <th>4</th>\n",
       "      <td>1.0</td>\n",
       "    </tr>\n",
       "    <tr>\n",
       "      <th>...</th>\n",
       "      <td>...</td>\n",
       "    </tr>\n",
       "    <tr>\n",
       "      <th>45766</th>\n",
       "      <td>0.0</td>\n",
       "    </tr>\n",
       "    <tr>\n",
       "      <th>45767</th>\n",
       "      <td>0.0</td>\n",
       "    </tr>\n",
       "    <tr>\n",
       "      <th>45768</th>\n",
       "      <td>0.0</td>\n",
       "    </tr>\n",
       "    <tr>\n",
       "      <th>45769</th>\n",
       "      <td>0.0</td>\n",
       "    </tr>\n",
       "    <tr>\n",
       "      <th>45770</th>\n",
       "      <td>0.0</td>\n",
       "    </tr>\n",
       "  </tbody>\n",
       "</table>\n",
       "<p>45513 rows × 1 columns</p>\n",
       "</div>"
      ],
      "text/plain": [
       "       item_cnt_day\n",
       "0               1.0\n",
       "1               1.0\n",
       "2               1.0\n",
       "3               1.0\n",
       "4               1.0\n",
       "...             ...\n",
       "45766           0.0\n",
       "45767           0.0\n",
       "45768           0.0\n",
       "45769           0.0\n",
       "45770           0.0\n",
       "\n",
       "[45513 rows x 1 columns]"
      ]
     },
     "execution_count": 588,
     "metadata": {},
     "output_type": "execute_result"
    }
   ],
   "source": [
    "binary_monthly_sales_verify[['item_cnt_day']]"
   ]
  },
  {
   "cell_type": "code",
   "execution_count": 582,
   "metadata": {},
   "outputs": [
    {
     "data": {
      "text/plain": [
       "0        0.998661\n",
       "1        0.998274\n",
       "2        0.998309\n",
       "3        0.960171\n",
       "4        0.998939\n",
       "           ...   \n",
       "45766    0.924569\n",
       "45767    0.984966\n",
       "45768    0.997395\n",
       "45769    0.996535\n",
       "45770    0.994919\n",
       "Name: pred, Length: 45513, dtype: float32"
      ]
     },
     "execution_count": 582,
     "metadata": {},
     "output_type": "execute_result"
    }
   ],
   "source": [
    "np.maximum(0,binary_monthly_sales_verify['item_cnt_day'])\n",
    "binary_monthly_sales_verify['pred']"
   ]
  },
  {
   "cell_type": "code",
   "execution_count": 577,
   "metadata": {},
   "outputs": [
    {
     "data": {
      "text/plain": [
       "1.0    45510\n",
       "0.0        3\n",
       "Name: pred, dtype: int64"
      ]
     },
     "execution_count": 577,
     "metadata": {},
     "output_type": "execute_result"
    }
   ],
   "source": [
    "np.maximum(0,binary_monthly_sales_verify['item_cnt_day']).value_counts()\n",
    "binary_monthly_sales_verify['pred'].round().value_counts()"
   ]
  },
  {
   "cell_type": "code",
   "execution_count": 589,
   "metadata": {},
   "outputs": [
    {
     "data": {
      "image/png": "[encoded data removed]",
      "text/plain": [
       "<Figure size 432x288 with 1 Axes>"
      ]
     },
     "metadata": {
      "needs_background": "light"
     },
     "output_type": "display_data"
    }
   ],
   "source": [
    "from sklearn import metrics\n",
    "fpr, tpr, threshold = metrics.roc_curve(np.maximum(0,binary_monthly_sales_verify['item_cnt_day']), binary_monthly_sales_verify['pred'])\n",
    "roc_auc = metrics.auc(fpr, tpr)\n",
    "\n",
    "# method I: plt\n",
    "import matplotlib.pyplot as plt\n",
    "plt.title('Receiver Operating Characteristic')\n",
    "plt.plot(fpr, tpr, 'b', label = 'AUC = %0.2f' % roc_auc)\n",
    "plt.legend(loc = 'lower right')\n",
    "plt.plot([0, 1], [0, 1],'r--')\n",
    "plt.xlim([0, 1])\n",
    "plt.ylim([0, 1])\n",
    "plt.ylabel('True Positive Rate')\n",
    "plt.xlabel('False Positive Rate')\n",
    "plt.show()"
   ]
  },
  {
   "cell_type": "code",
   "execution_count": 593,
   "metadata": {},
   "outputs": [
    {
     "data": {
      "text/plain": [
       "0.8038991047228456"
      ]
     },
     "execution_count": 593,
     "metadata": {},
     "output_type": "execute_result"
    }
   ],
   "source": [
    "roc_auc"
   ]
  },
  {
   "cell_type": "code",
   "execution_count": 578,
   "metadata": {},
   "outputs": [
    {
     "name": "stdout",
     "output_type": "stream",
     "text": [
      "0\n",
      "1\n"
     ]
    },
    {
     "ename": "NameError",
     "evalue": "name 'roc_auc_score' is not defined",
     "output_type": "error",
     "traceback": [
      "\u001b[1;31m--------------------------------------------------------------\u001b[0m",
      "\u001b[1;31mNameError\u001b[0m                    Traceback (most recent call last)",
      "\u001b[1;32m<ipython-input-578-a7d3a168e103>\u001b[0m in \u001b[0;36m<module>\u001b[1;34m\u001b[0m\n\u001b[0;32m      9\u001b[0m     \u001b[0mroc_auc\u001b[0m\u001b[1;33m[\u001b[0m\u001b[0mi\u001b[0m\u001b[1;33m]\u001b[0m \u001b[1;33m=\u001b[0m \u001b[0mauc\u001b[0m\u001b[1;33m(\u001b[0m\u001b[0mfpr\u001b[0m\u001b[1;33m[\u001b[0m\u001b[0mi\u001b[0m\u001b[1;33m]\u001b[0m\u001b[1;33m,\u001b[0m \u001b[0mtpr\u001b[0m\u001b[1;33m[\u001b[0m\u001b[0mi\u001b[0m\u001b[1;33m]\u001b[0m\u001b[1;33m)\u001b[0m\u001b[1;33m\u001b[0m\u001b[1;33m\u001b[0m\u001b[0m\n\u001b[0;32m     10\u001b[0m \u001b[1;33m\u001b[0m\u001b[0m\n\u001b[1;32m---> 11\u001b[1;33m \u001b[0mprint\u001b[0m \u001b[1;33m(\u001b[0m\u001b[0mroc_auc_score\u001b[0m\u001b[1;33m(\u001b[0m\u001b[0mtest\u001b[0m\u001b[1;33m,\u001b[0m \u001b[0mpred\u001b[0m\u001b[1;33m)\u001b[0m\u001b[1;33m)\u001b[0m\u001b[1;33m\u001b[0m\u001b[1;33m\u001b[0m\u001b[0m\n\u001b[0m\u001b[0;32m     12\u001b[0m \u001b[0mplt\u001b[0m\u001b[1;33m.\u001b[0m\u001b[0mfigure\u001b[0m\u001b[1;33m(\u001b[0m\u001b[1;33m)\u001b[0m\u001b[1;33m\u001b[0m\u001b[1;33m\u001b[0m\u001b[0m\n\u001b[0;32m     13\u001b[0m \u001b[0mplt\u001b[0m\u001b[1;33m.\u001b[0m\u001b[0mplot\u001b[0m\u001b[1;33m(\u001b[0m\u001b[0mfpr\u001b[0m\u001b[1;33m[\u001b[0m\u001b[1;36m1\u001b[0m\u001b[1;33m]\u001b[0m\u001b[1;33m,\u001b[0m \u001b[0mtpr\u001b[0m\u001b[1;33m[\u001b[0m\u001b[1;36m1\u001b[0m\u001b[1;33m]\u001b[0m\u001b[1;33m)\u001b[0m\u001b[1;33m\u001b[0m\u001b[1;33m\u001b[0m\u001b[0m\n",
      "\u001b[1;31mNameError\u001b[0m: name 'roc_auc_score' is not defined"
     ]
    }
   ],
   "source": [
    "import matplotlib.pyplot as plt\n",
    "from sklearn.metrics import roc_curve, auc\n",
    "fpr = dict()\n",
    "tpr = dict()\n",
    "roc_auc = dict()\n",
    "for i in range(2):\n",
    "    print(i)\n",
    "    fpr[i], tpr[i], _ = roc_curve(np.maximum(binary_monthly_sales_verify['item_cnt_day'],0), binary_monthly_sales_verify['pred'])\n",
    "    roc_auc[i] = auc(fpr[i], tpr[i])\n",
    "\n",
    "print (roc_auc_score(test, pred))\n",
    "plt.figure()\n",
    "plt.plot(fpr[1], tpr[1])\n",
    "plt.xlim([0.0, 1.0])\n",
    "plt.ylim([0.0, 1.05])\n",
    "plt.xlabel('False Positive Rate')\n",
    "plt.ylabel('True Positive Rate')\n",
    "plt.title('Receiver operating characteristic')\n",
    "plt.show()"
   ]
  },
  {
   "cell_type": "code",
   "execution_count": 567,
   "metadata": {},
   "outputs": [
    {
     "data": {
      "text/plain": [
       "0        0.998661\n",
       "1        0.998274\n",
       "2        0.998309\n",
       "3        0.960171\n",
       "4        0.998939\n",
       "           ...   \n",
       "45766    0.924569\n",
       "45767    0.984966\n",
       "45768    0.997395\n",
       "45769    0.996535\n",
       "45770    0.994919\n",
       "Name: pred, Length: 45513, dtype: float32"
      ]
     },
     "execution_count": 567,
     "metadata": {},
     "output_type": "execute_result"
    }
   ],
   "source": []
  },
  {
   "cell_type": "code",
   "execution_count": 542,
   "metadata": {},
   "outputs": [
    {
     "data": {
      "text/plain": [
       "0        1.0\n",
       "1        1.0\n",
       "2        1.0\n",
       "3        1.0\n",
       "4        1.0\n",
       "        ... \n",
       "45766    0.0\n",
       "45767    0.0\n",
       "45768    0.0\n",
       "45769    0.0\n",
       "45770    0.0\n",
       "Name: item_cnt_day, Length: 45513, dtype: float64"
      ]
     },
     "execution_count": 542,
     "metadata": {},
     "output_type": "execute_result"
    }
   ],
   "source": [
    "binary_monthly_sales_verify['item_cnt_day']"
   ]
  },
  {
   "cell_type": "code",
   "execution_count": 531,
   "metadata": {},
   "outputs": [
    {
     "data": {
      "text/plain": [
       "45513"
      ]
     },
     "execution_count": 531,
     "metadata": {},
     "output_type": "execute_result"
    }
   ],
   "source": [
    "len(binary_monthly_sales_verify['pred'].values)"
   ]
  },
  {
   "cell_type": "code",
   "execution_count": 526,
   "metadata": {},
   "outputs": [
    {
     "data": {
      "text/plain": [
       "array([1., 1., 1., 1., ..., 0., 0., 0., 0.])"
      ]
     },
     "execution_count": 526,
     "metadata": {},
     "output_type": "execute_result"
    }
   ],
   "source": [
    "binary_monthly_sales_verify['item_cnt_day'].values"
   ]
  },
  {
   "cell_type": "code",
   "execution_count": 486,
   "metadata": {},
   "outputs": [
    {
     "data": {
      "text/plain": [
       "1.0    0.999692\n",
       "0.0    0.000308\n",
       "Name: pred, dtype: float64"
      ]
     },
     "execution_count": 486,
     "metadata": {},
     "output_type": "execute_result"
    }
   ],
   "source": [
    "round(binary_monthly_sales_verify['pred']).value_counts(normalize = True)"
   ]
  },
  {
   "cell_type": "markdown",
   "metadata": {},
   "source": [
    "Similar performance whether existing combination is known or not. The biggest drop in accuracy is when there's a new item"
   ]
  },
  {
   "cell_type": "code",
   "execution_count": 398,
   "metadata": {},
   "outputs": [
    {
     "name": "stdout",
     "output_type": "stream",
     "text": [
      "item_cnt_day\n",
      "0.0    1.974057\n",
      "1.0    1.018989\n",
      "2.0    1.068859\n",
      "3.0    1.395096\n",
      "4.0    1.691499\n",
      "5.0    2.164824\n",
      "6.0    2.596162\n",
      "7.0    2.951889\n",
      "8.0    3.885411\n",
      "9.0    4.664387\n",
      "Name: residual_abs, dtype: float64\n"
     ]
    }
   ],
   "source": [
    "print(average_monthly_sales_verify.groupby('item_cnt_day')['residual_abs'].mean()[np.arange(sales_range[0],sales_range[1])])"
   ]
  },
  {
   "cell_type": "code",
   "execution_count": 451,
   "metadata": {},
   "outputs": [
    {
     "data": {
      "text/plain": [
       "Text(0.5, 0, 'Actual Values')"
      ]
     },
     "execution_count": 451,
     "metadata": {},
     "output_type": "execute_result"
    },
    {
     "data": {
      "image/png": "[encoded data removed]",
      "text/plain": [
       "<Figure size 648x432 with 1 Axes>"
      ]
     },
     "metadata": {
      "needs_background": "light"
     },
     "output_type": "display_data"
    }
   ],
   "source": [
    "sales_vals = np.arange(sales_range[0],sales_range[1]).astype(int)\n",
    "box_plot_data = [average_monthly_sales_verify[average_monthly_sales_verify['item_cnt_day'] == val]['collab_filtering_v2'] for val in sales_vals]\n",
    "\n",
    "fig = plt.figure(1, figsize=(9, 6))\n",
    "\n",
    "# Create an axes instance\n",
    "ax = fig.add_subplot(111)\n",
    "\n",
    "# Create the boxplot\n",
    "bp = ax.boxplot(box_plot_data)\n",
    "\n",
    "ax.set_xticklabels(sales_vals)\n",
    "plt.ylabel('Predicted Values')\n",
    "plt.xlabel('Actual Values')\n",
    "\n"
   ]
  },
  {
   "cell_type": "markdown",
   "metadata": {},
   "source": [
    "Not as accurate when selecting 0. Although it also isn't great at selecting high numbers, these numbers are more rare."
   ]
  },
  {
   "cell_type": "markdown",
   "metadata": {},
   "source": [
    "Outcome: Model could be improved by using an additional two models.\n",
    "1. A classification model that aims to pair a new item with its most likely combination\n",
    "2. A classification model that just focuses on whether an item is likely to sell or not."
   ]
  },
  {
   "cell_type": "code",
   "execution_count": 436,
   "metadata": {},
   "outputs": [
    {
     "data": {
      "image/png": "[encoded data removed]",
      "text/plain": [
       "<Figure size 432x288 with 1 Axes>"
      ]
     },
     "metadata": {
      "needs_background": "light"
     },
     "output_type": "display_data"
    }
   ],
   "source": [
    "plt.scatter(average_monthly_sales_verify['item_cnt_day'],np.floor(average_monthly_sales_verify['collab_filtering_v2']), alpha = 0.0023)\n",
    "plt.ylim(np.add(sales_range,(-1,1)))\n",
    "plt.xlim(np.add(sales_range,(-1,1)))\n",
    "plt.xlabel('Actual Sales')\n",
    "plt.ylabel('Predicted Sales')\n",
    "\n",
    "plt.show()"
   ]
  },
  {
   "cell_type": "code",
   "execution_count": 444,
   "metadata": {},
   "outputs": [
    {
     "data": {
      "text/plain": [
       "[510      2.008727\n",
       " 534      1.996825\n",
       " 1477     2.054665\n",
       " 3382     1.157970\n",
       " 3714     6.462871\n",
       "            ...   \n",
       " 45766    2.114603\n",
       " 45767    6.130525\n",
       " 45768    1.617303\n",
       " 45769    1.073704\n",
       " 45770    1.913949\n",
       " Name: collab_filtering_v2, Length: 14288, dtype: float32,\n",
       " 0        2.684104\n",
       " 2        1.240026\n",
       " 3        1.391193\n",
       " 4        1.693428\n",
       " 5        2.020735\n",
       "            ...   \n",
       " 31524    0.927184\n",
       " 31525    1.052572\n",
       " 31528    2.547256\n",
       " 31529    1.787635\n",
       " 31530    5.084676\n",
       " Name: collab_filtering_v2, Length: 21136, dtype: float32,\n",
       " 11       1.688356\n",
       " 16       3.610930\n",
       " 27       2.125502\n",
       " 34       2.685547\n",
       " 35       2.308930\n",
       "            ...   \n",
       " 31495    1.357528\n",
       " 31508    1.242545\n",
       " 31517    1.106330\n",
       " 31522    2.139680\n",
       " 31527    3.898035\n",
       " Name: collab_filtering_v2, Length: 5040, dtype: float32,\n",
       " 1        2.479402\n",
       " 31       4.284751\n",
       " 37       3.147288\n",
       " 50       1.801473\n",
       " 82       4.379488\n",
       "            ...   \n",
       " 31394    3.543597\n",
       " 31397    2.426035\n",
       " 31404    3.896730\n",
       " 31407    1.612335\n",
       " 31454    2.139680\n",
       " Name: collab_filtering_v2, Length: 1902, dtype: float32,\n",
       " 22       2.146023\n",
       " 30       1.918473\n",
       " 36       4.414916\n",
       " 77       4.018748\n",
       " 80       8.173786\n",
       "            ...   \n",
       " 31282    2.139680\n",
       " 31286    2.138181\n",
       " 31383    3.056968\n",
       " 31496    2.139680\n",
       " 31513    1.792655\n",
       " Name: collab_filtering_v2, Length: 957, dtype: float32,\n",
       " 45       1.458470\n",
       " 123      2.422086\n",
       " 306      0.791406\n",
       " 388      2.146023\n",
       " 438      4.892932\n",
       "            ...   \n",
       " 31046    2.097341\n",
       " 31081    1.317792\n",
       " 31154    7.100496\n",
       " 31155    3.931324\n",
       " 31406    1.998448\n",
       " Name: collab_filtering_v2, Length: 580, dtype: float32,\n",
       " 81       6.657032\n",
       " 153      3.625567\n",
       " 204      2.270835\n",
       " 226      1.965866\n",
       " 575      2.585732\n",
       "            ...   \n",
       " 30717    1.681585\n",
       " 31225    2.139680\n",
       " 31288    2.139680\n",
       " 31473    2.139680\n",
       " 31526    3.598365\n",
       " Name: collab_filtering_v2, Length: 340, dtype: float32,\n",
       " 384      7.411478\n",
       " 498      5.028218\n",
       " 499      4.210923\n",
       " 577      1.885413\n",
       " 1007     1.945994\n",
       "            ...   \n",
       " 30748    2.578379\n",
       " 30994    3.289378\n",
       " 31026    2.568428\n",
       " 31104    7.778903\n",
       " 31135    5.822422\n",
       " Name: collab_filtering_v2, Length: 226, dtype: float32,\n",
       " 79       6.348051\n",
       " 335      3.508217\n",
       " 578      3.913458\n",
       " 862      2.045518\n",
       " 1008     1.945994\n",
       "            ...   \n",
       " 29949    1.583809\n",
       " 29998    2.122932\n",
       " 30367    3.319180\n",
       " 30463    5.829291\n",
       " 31056    2.139680\n",
       " Name: collab_filtering_v2, Length: 158, dtype: float32,\n",
       " 24       2.146023\n",
       " 471      2.267589\n",
       " 737      2.456355\n",
       " 923      4.937240\n",
       " 1059     1.954382\n",
       "            ...   \n",
       " 29545    2.807248\n",
       " 30257    2.250801\n",
       " 30438    5.504413\n",
       " 30733    3.110031\n",
       " 30887    2.250801\n",
       " Name: collab_filtering_v2, Length: 138, dtype: float32]"
      ]
     },
     "execution_count": 444,
     "metadata": {},
     "output_type": "execute_result"
    }
   ],
   "source": [
    "box_plot_data"
   ]
  },
  {
   "cell_type": "code",
   "execution_count": 356,
   "metadata": {},
   "outputs": [],
   "source": [
    "def pred_data(df: pd.DataFrame, model, new_col:str = 'pred'):\n",
    "    data = TabularList.from_df(df)\n",
    "    pred = learn.get_preds(ds_type = data)\n",
    "    #df[new_col] = pred[0]\n",
    "    return pred[0]"
   ]
  },
  {
   "cell_type": "code",
   "execution_count": 146,
   "metadata": {},
   "outputs": [],
   "source": [
    "def comp_export(sales_test:pd.DataFrame,predict_col:str, export_name:str):\n",
    "    sales_test = pred_data(sales_test)\n",
    "    sales_test.index.name = 'ID'\n",
    "    sales_test['item_cnt_month'].to_csv(export_name)\n",
    "\n",
    "comp_export(sales_test,'collab_filtering_v3','first_test.csv')"
   ]
  },
  {
   "cell_type": "code",
   "execution_count": 199,
   "metadata": {},
   "outputs": [
    {
     "data": {
      "text/plain": [
       "(214200,)"
      ]
     },
     "execution_count": 199,
     "metadata": {},
     "output_type": "execute_result"
    }
   ],
   "source": [
    "sales_test['item_cnt_day'].shape"
   ]
  }
 ],
 "metadata": {
  "kernelspec": {
   "display_name": "Python 3",
   "language": "python",
   "name": "python3"
  },
  "language_info": {
   "codemirror_mode": {
    "name": "ipython",
    "version": 3
   },
   "file_extension": ".py",
   "mimetype": "text/x-python",
   "name": "python",
   "nbconvert_exporter": "python",
   "pygments_lexer": "ipython3",
   "version": "3.7.3"
  },
  "toc": {
   "base_numbering": 1,
   "nav_menu": {},
   "number_sections": false,
   "sideBar": false,
   "skip_h1_title": false,
   "title_cell": "Table of Contents",
   "title_sidebar": "Contents",
   "toc_cell": false,
   "toc_position": {},
   "toc_section_display": false,
   "toc_window_display": false
  }
 },
 "nbformat": 4,
 "nbformat_minor": 4
}
